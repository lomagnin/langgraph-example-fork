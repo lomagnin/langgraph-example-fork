{
 "cells": [
  {
   "cell_type": "code",
   "execution_count": 1,
   "metadata": {},
   "outputs": [],
   "source": [
    "from my_agent import agent"
   ]
  },
  {
   "cell_type": "code",
   "execution_count": 2,
   "metadata": {},
   "outputs": [],
   "source": [
    "graph = agent.graph"
   ]
  },
  {
   "cell_type": "code",
   "execution_count": 3,
   "metadata": {},
   "outputs": [
    {
     "data": {
      "image/jpeg": "[encoded data removed]",
      "text/plain": [
       "<IPython.core.display.Image object>"
      ]
     },
     "metadata": {},
     "output_type": "display_data"
    }
   ],
   "source": [
    "from IPython.display import Image, display\n",
    "\n",
    "try:\n",
    "    display(Image(graph.get_graph(xray=True).draw_mermaid_png()))\n",
    "except:\n",
    "    # This requires some extra dependencies and is optional\n",
    "    pass"
   ]
  },
  {
   "cell_type": "code",
   "execution_count": 4,
   "metadata": {},
   "outputs": [
    {
     "name": "stdout",
     "output_type": "stream",
     "text": [
      "{'agent': {'messages': [AIMessage(content='', additional_kwargs={}, response_metadata={'model': 'llama3.1', 'created_at': '2024-09-20T16:21:45.37379Z', 'message': {'role': 'assistant', 'content': '', 'tool_calls': [{'function': {'name': 'tavily_search_results_json', 'arguments': {'query': 'La Banquise restaurant in Montreal'}}}]}, 'done_reason': 'stop', 'done': True, 'total_duration': 1874786542, 'load_duration': 1051276542, 'prompt_eval_count': 207, 'prompt_eval_duration': 356673000, 'eval_count': 27, 'eval_duration': 461939000}, id='run-8b62d53d-d830-43b1-8ba5-92646358e3d7-0', tool_calls=[{'name': 'tavily_search_results_json', 'args': {'query': 'La Banquise restaurant in Montreal'}, 'id': 'e1b6d68b-a470-4a2e-9e7c-b980cf452fd6', 'type': 'tool_call'}], usage_metadata={'input_tokens': 207, 'output_tokens': 27, 'total_tokens': 234})]}}\n",
      "----\n",
      "{'action': {'messages': [ToolMessage(content='[{\"url\": \"https://www.tripadvisor.com/Restaurant_Review-g155032-d783469-Reviews-La_Banquise-Montreal_Quebec.html\", \"content\": \"La Banquise, Montreal: See 3,401 unbiased reviews of La Banquise, rated 4.0 of 5 on Tripadvisor and ranked #84 of 3,724 restaurants in Montreal.\"}]', name='tavily_search_results_json', tool_call_id='e1b6d68b-a470-4a2e-9e7c-b980cf452fd6', artifact={'query': 'La Banquise restaurant in Montreal', 'follow_up_questions': None, 'answer': None, 'images': [], 'results': [{'title': 'LA BANQUISE, Montreal - Le Plateau Mont-Royal - Tripadvisor', 'url': 'https://www.tripadvisor.com/Restaurant_Review-g155032-d783469-Reviews-La_Banquise-Montreal_Quebec.html', 'content': 'La Banquise, Montreal: See 3,401 unbiased reviews of La Banquise, rated 4.0 of 5 on Tripadvisor and ranked #84 of 3,724 restaurants in Montreal.', 'score': 0.9999439, 'raw_content': None}], 'response_time': 2.01})]}}\n",
      "----\n",
      "{'agent': {'messages': [AIMessage(content='Based on the search results from TripAdvisor, it appears that La Banquise is a highly-recommended restaurant in Montreal with an average rating of 4.0 out of 5 stars.', additional_kwargs={}, response_metadata={'model': 'llama3.1', 'created_at': '2024-09-20T16:21:48.793611Z', 'message': {'role': 'assistant', 'content': 'Based on the search results from TripAdvisor, it appears that La Banquise is a highly-recommended restaurant in Montreal with an average rating of 4.0 out of 5 stars.'}, 'done_reason': 'stop', 'done': True, 'total_duration': 1114443083, 'load_duration': 16614041, 'prompt_eval_count': 197, 'prompt_eval_duration': 421882000, 'eval_count': 39, 'eval_duration': 671175000}, id='run-ed380e73-120d-441a-9810-1dd6cbd38e48-0', usage_metadata={'input_tokens': 197, 'output_tokens': 39, 'total_tokens': 236})]}}\n",
      "----\n"
     ]
    }
   ],
   "source": [
    "from langchain_core.messages import (\n",
    "    BaseMessage,\n",
    "    ToolMessage,\n",
    "    HumanMessage,\n",
    ")\n",
    "events = graph.stream(\n",
    "    {\n",
    "        \"messages\": [\n",
    "            HumanMessage(\n",
    "                content=\"What can you say about the La Banquise restaurant in Montreal?\"\n",
    "            )\n",
    "        ],\n",
    "    },\n",
    "    # Maximum number of steps to take in the graph\n",
    "    {\"recursion_limit\": 150},\n",
    ")\n",
    "for s in events:\n",
    "    print(s)\n",
    "    print(\"----\")"
   ]
  },
  {
   "cell_type": "code",
   "execution_count": null,
   "metadata": {},
   "outputs": [],
   "source": []
  }
 ],
 "metadata": {
  "kernelspec": {
   "display_name": "langgraph",
   "language": "python",
   "name": "python3"
  },
  "language_info": {
   "codemirror_mode": {
    "name": "ipython",
    "version": 3
   },
   "file_extension": ".py",
   "mimetype": "text/x-python",
   "name": "python",
   "nbconvert_exporter": "python",
   "pygments_lexer": "ipython3",
   "version": "3.11.8"
  }
 },
 "nbformat": 4,
 "nbformat_minor": 2
}
